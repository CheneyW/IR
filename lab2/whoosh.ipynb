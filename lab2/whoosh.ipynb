{
 "cells": [
  {
   "cell_type": "code",
   "execution_count": 8,
   "metadata": {},
   "outputs": [],
   "source": [
    "import os\n",
    "from whoosh.index import create_in\n",
    "from whoosh.fields import *\n",
    "from whoosh.qparser import QueryParser\n",
    "from whoosh.query import *"
   ]
  },
  {
   "cell_type": "markdown",
   "metadata": {},
   "source": [
    "# 定义索引schema,确定索引字段"
   ]
  },
  {
   "cell_type": "code",
   "execution_count": 3,
   "metadata": {},
   "outputs": [],
   "source": [
    "schema = Schema(title=TEXT(stored=True), path=ID(stored=True), content=TEXT)"
   ]
  },
  {
   "cell_type": "markdown",
   "metadata": {},
   "source": [
    "# 创建索引对象"
   ]
  },
  {
   "cell_type": "code",
   "execution_count": 4,
   "metadata": {},
   "outputs": [],
   "source": [
    "if not os.path.exists(\"index\"):\n",
    "    os.mkdir(\"index\")\n",
    "ix = create_in(\"index\", schema)\n",
    "# from whoosh.index import open_dir\n",
    "# ix = open_dir(\"index\")"
   ]
  },
  {
   "cell_type": "markdown",
   "metadata": {},
   "source": [
    "# 添加文档到索引中"
   ]
  },
  {
   "cell_type": "code",
   "execution_count": 5,
   "metadata": {},
   "outputs": [],
   "source": [
    "writer = ix.writer()  # returns an IndexWriter object\n",
    "# 传递Unicode值\n",
    "writer.add_document(title=u\"First document\",  # 用于索引\n",
    "                    _stored_title=u\"Stored title\",  # 用于store\n",
    "                    path=u\"/a\",\n",
    "                    content=u\"This is the first document we've added!\")\n",
    "writer.add_document(title=u\"Second document\", path=u\"/b\", content=u\"The second one is even more interesting!\")\n",
    "writer.commit()  # saves the added documents to the index"
   ]
  },
  {
   "cell_type": "markdown",
   "metadata": {},
   "source": [
    "# 通过关键词搜索"
   ]
  },
  {
   "cell_type": "code",
   "execution_count": 14,
   "metadata": {},
   "outputs": [
    {
     "name": "stdout",
     "output_type": "stream",
     "text": [
      "<Hit {'path': '/b', 'title': 'Second document'}>\n"
     ]
    }
   ],
   "source": [
    "with ix.searcher() as searcher:\n",
    "    query = QueryParser(\"content\", ix.schema).parse(\"one\")\n",
    "    results = searcher.search(query)\n",
    "    print(results[0])"
   ]
  },
  {
   "cell_type": "markdown",
   "metadata": {},
   "source": [
    "# 同时匹配多个关键词"
   ]
  },
  {
   "cell_type": "markdown",
   "metadata": {},
   "source": [
    "默认的 QueryParser 允许使用查询语句 AND 和 OR 和 NOT"
   ]
  },
  {
   "cell_type": "code",
   "execution_count": 18,
   "metadata": {},
   "outputs": [
    {
     "name": "stdout",
     "output_type": "stream",
     "text": [
      "<Hit {'path': '/b', 'title': 'Second document'}>\n"
     ]
    }
   ],
   "source": [
    "with ix.searcher() as searcher:\n",
    "    myquery = And([Term(\"content\", u\"is\"), Term(\"content\", u\"more\")]) \n",
    "    results = searcher.search(query)\n",
    "    print(results[0])"
   ]
  },
  {
   "cell_type": "markdown",
   "metadata": {},
   "source": [
    "# 检索中文"
   ]
  },
  {
   "cell_type": "markdown",
   "metadata": {},
   "source": [
    "## 基于正则表达式进行分词"
   ]
  },
  {
   "cell_type": "code",
   "execution_count": 20,
   "metadata": {},
   "outputs": [
    {
     "name": "stderr",
     "output_type": "stream",
     "text": [
      "Building prefix dict from the default dictionary ...\n",
      "Loading model from cache C:\\Users\\wcy70\\AppData\\Local\\Temp\\jieba.cache\n",
      "Loading model cost 0.860 seconds.\n",
      "Prefix dict has been built succesfully.\n"
     ]
    }
   ],
   "source": [
    "from jieba.analyse import ChineseAnalyzer\n",
    "\n",
    "analyzer = ChineseAnalyzer()\n",
    "schema = Schema(title=TEXT(stored=True), content=TEXT(stored=True, analyzer=analyzer))\n",
    "idx = create_in(\"index\", schema)\n",
    "\n",
    "writer = idx.writer()\n",
    "writer.add_document(title=u\"第一篇文档\", content=u\"这是第一篇文档，成功添加\")\n",
    "writer.add_document(title=u\"第二篇文档\", content=u\"第二篇文档更有趣\")\n",
    "writer.commit()  # saves the added documents to the index"
   ]
  },
  {
   "cell_type": "code",
   "execution_count": 29,
   "metadata": {},
   "outputs": [
    {
     "name": "stdout",
     "output_type": "stream",
     "text": [
      "result of  文档\n",
      "{'content': '第二篇文档更有趣', 'title': '第二篇文档'}\n",
      "{'content': '这是第一篇文档，成功添加', 'title': '第一篇文档'}\n",
      "------------------------------\n",
      "result of  成功\n",
      "{'content': '这是第一篇文档，成功添加', 'title': '第一篇文档'}\n",
      "------------------------------\n",
      "result of  有趣\n",
      "{'content': '第二篇文档更有趣', 'title': '第二篇文档'}\n",
      "------------------------------\n"
     ]
    }
   ],
   "source": [
    "with idx.searcher() as searcher:\n",
    "    parser = QueryParser(\"content\", schema=idx.schema)\n",
    "    for keyword in (\"文档\",\"成功\",\"有趣\"):\n",
    "        print(\"result of \",keyword)\n",
    "        q = parser.parse(keyword)\n",
    "        results = searcher.search(q)\n",
    "        for hit in results:\n",
    "            print(dict(hit))\n",
    "#             print(hit.highlights(\"content\"))\n",
    "        print(\"-\"*30)"
   ]
  }
 ],
 "metadata": {
  "kernelspec": {
   "display_name": "Python [conda env:myenv]",
   "language": "python",
   "name": "conda-env-myenv-py"
  },
  "language_info": {
   "codemirror_mode": {
    "name": "ipython",
    "version": 3
   },
   "file_extension": ".py",
   "mimetype": "text/x-python",
   "name": "python",
   "nbconvert_exporter": "python",
   "pygments_lexer": "ipython3",
   "version": "3.7.2"
  },
  "toc": {
   "base_numbering": 1,
   "nav_menu": {},
   "number_sections": true,
   "sideBar": true,
   "skip_h1_title": false,
   "title_cell": "Table of Contents",
   "title_sidebar": "Contents",
   "toc_cell": false,
   "toc_position": {},
   "toc_section_display": true,
   "toc_window_display": false
  }
 },
 "nbformat": 4,
 "nbformat_minor": 2
}
